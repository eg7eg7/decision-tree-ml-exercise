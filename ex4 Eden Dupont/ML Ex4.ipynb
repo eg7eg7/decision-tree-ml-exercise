{
 "cells": [
  {
   "cell_type": "markdown",
   "metadata": {},
   "source": [
    "# Machine Learning Exercise 4\n",
    "\n",
    "### EDEN DUPONT - 204808596"
   ]
  },
  {
   "cell_type": "markdown",
   "metadata": {},
   "source": [
    "-------------------------------------------------------------------------------------------------------------------------------"
   ]
  },
  {
   "cell_type": "markdown",
   "metadata": {},
   "source": [
    "## Theoretical part"
   ]
  },
  {
   "cell_type": "markdown",
   "metadata": {},
   "source": [
    "ex4-theoretical-part.pdf file is included"
   ]
  },
  {
   "cell_type": "code",
   "execution_count": 10,
   "metadata": {},
   "outputs": [],
   "source": [
    "import logging\n",
    "import os\n",
    "import subprocess\n",
    "import re\n",
    "import pandas as pd\n",
    "from sklearn.tree import DecisionTreeClassifier, export_graphviz\n",
    "from tqdm import tqdm\n",
    "\n",
    "# EDEN DUPONT 204808596\n",
    "\n",
    "\n",
    "train_file = \"train.txt\"\n",
    "validation_file = \"val.txt\"\n",
    "test_file = \"test.txt\"\n",
    "temp_files = []\n",
    "table_names = {}\n",
    "feature_names = [\"Checking Status\", \"Saving Status\", \"Credit History\", \"Housing\", \"Job\", \"Property Magnitude\", \"Number of dependents\", \"Number Credits\", \"Own Telephone\",\n",
    "                 \"Foreign Workers\"]\n",
    "map_to_int = {}\n",
    "\n",
    "\n",
    "def encode_target(data):\n",
    "    df_mod = data.copy()\n",
    "    changed = False\n",
    "    for key in list(data.columns[:]):\n",
    "        if key not in map_to_int.keys():\n",
    "            changed = True\n",
    "            targets = sorted(df_mod[key].unique())\n",
    "            map_to_int[key] = {name: n + 1 for n, name in enumerate(targets)}\n",
    "        df_mod[key].replace(map_to_int[key], inplace=True)\n",
    "    if changed:\n",
    "        logging.debug(map_to_int)\n",
    "    return df_mod\n",
    "\n",
    "\n",
    "def get_x_y(data):\n",
    "    features = list(data.columns[:-1])\n",
    "    target_y = list(data.columns[-1])\n",
    "\n",
    "    x = data[features]\n",
    "    y = data[target_y]\n",
    "    return x, y\n",
    "\n",
    "\n",
    "# build decision tree using training data, use pandas\n",
    "def decision_tree_build(encoded_train_data, encoded_valid_data, epochs=10000, min_score=90):\n",
    "    logging.debug(\"decision tree build : begin\")\n",
    "    x_train, y_train = get_x_y(encoded_train_data)\n",
    "    x_valid, y_valid = get_x_y(encoded_valid_data)\n",
    "\n",
    "    clf = DecisionTreeClassifier(criterion=\"entropy\", splitter=\"random\")\n",
    "    logging.debug(f\"Training model with {epochs} epochs\")\n",
    "    for _ in tqdm(range(epochs), desc=\"Training model\"):\n",
    "        clf.fit(x_train, y_train)\n",
    "        score = clf.score(x_valid, y_valid)\n",
    "        if score > min_score:\n",
    "            break\n",
    "    logging.debug(f\"Tree ready - validation score {score}\")\n",
    "    return clf\n",
    "\n",
    "\n",
    "def plot_tree(tree, features):\n",
    "    with open(\"dt.dot\", 'w') as f:\n",
    "        export_graphviz(tree, out_file=f,\n",
    "                        feature_names=features, precision=5, filled=True, rounded=True,\n",
    "                        special_characters=True, class_names=[\"Good\", \"Bad\"], impurity=True)\n",
    "\n",
    "    command = [\"dot\", \"-Tpng\", \"dt.dot\", \"-o\", \"tree_ex4.png\"]\n",
    "    try:\n",
    "        subprocess.call(command, shell=True)\n",
    "    except:\n",
    "        logging.debug('Could not run dot, ie graphviz, to produce visualization')\n",
    "\n",
    "\n",
    "def print_accuracy(tree, encoded_data):\n",
    "    x, y = get_x_y(encoded_data)\n",
    "    score = tree.score(x, y)\n",
    "    print(f\"Tree score is {score}\")\n",
    "\n",
    "\n",
    "def clean_file(directory):\n",
    "    logging.info(msg=\"Cleaning file \" + directory)\n",
    "    names = \"\"\n",
    "    write_first_line = True\n",
    "    new_file = directory + \"_temp\"\n",
    "    temp_files.append(new_file)\n",
    "    pattern = re.compile(r\",| \")\n",
    "    f = open(directory, \"r\")\n",
    "    new_f = open(new_file, \"w\")\n",
    "    lines = f.readlines()\n",
    "    for line in lines:\n",
    "        line1 = pattern.split(line.rstrip(\"\\n\"))\n",
    "        if line1[0] in [\"##\"]:\n",
    "            names += line1[1] + \", \"\n",
    "            table_names[line1[1].rstrip()] = line1[2:]\n",
    "        if line1[0] in [\"%%\"]:\n",
    "            table_names[\"Y\"] = line1[1:]\n",
    "        if line1[0] not in [\"##\", \"%%\", \"//\"]:\n",
    "            if write_first_line:\n",
    "                write_first_line = False\n",
    "                new_f.write(names + \"Y\\n\")\n",
    "            new_f.write(line)\n",
    "\n",
    "    f.close()\n",
    "    new_f.close()\n",
    "    return new_file\n",
    "\n",
    "\n",
    "def read_file(directory):\n",
    "    cfile = clean_file(directory)\n",
    "    data = pd.read_csv(cfile, header=0, sep=\", |,\", engine=\"python\")\n",
    "    return data\n",
    "\n",
    "\n",
    "# leaving directory empty uses a relative path\n",
    "def read_data(directory=\"\"):\n",
    "    logging.info(msg=\"Reading training file\")\n",
    "    train = read_file(directory + train_file)\n",
    "    logging.info(msg=\"Reading validation file\")\n",
    "    valid = read_file(directory + validation_file)\n",
    "    logging.info(msg=\"Reading test file\")\n",
    "    test = read_file(directory + test_file)\n",
    "    return train, valid, test\n",
    "\n",
    "\n",
    "def clean_temp_files():\n",
    "    logging.info(msg=\"Deleting temporary files\")\n",
    "    for x in temp_files:\n",
    "        os.remove(x)\n",
    "\n",
    "\n",
    "\n",
    "\n"
   ]
  },
  {
   "cell_type": "code",
   "execution_count": 11,
   "metadata": {},
   "outputs": [
    {
     "name": "stderr",
     "output_type": "stream",
     "text": [
      "INFO:root:Reading training file\n",
      "INFO:root:Cleaning file train.txt\n",
      "INFO:root:Reading validation file\n",
      "INFO:root:Cleaning file val.txt\n",
      "INFO:root:Reading test file\n",
      "INFO:root:Cleaning file test.txt\n",
      "DEBUG:root:{'A1': {'b': 1, 'g': 2, 'n': 3, 'x': 4}, 'A2': {'b': 1, 'g': 2, 'm': 3, 'n': 4, 'w': 5}, 'A3': {'a': 1, 'c': 2, 'd': 3, 'e': 4, 'n': 5}, 'A4': {'f': 1, 'o': 2, 'r': 3}, 'A5': {'h': 1, 'n': 2, 's': 3, 'u': 4}, 'A6': {'c': 1, 'l': 2, 'n': 3, 'r': 4}, 'A7': {1: 1, 2: 2}, 'A8': {1: 1, 2: 2, 3: 3, 4: 4}, 'A9': {'n': 1, 'y': 2}, 'A10': {'n': 1, 'y': 2}, 'Y': {'B': 1, 'G': 2}}\n",
      "DEBUG:root:decision tree build : begin\n",
      "DEBUG:root:Training model with 10000 epochs\n",
      "Training model: 100%|███████████████████████████████████████████████████████████| 10000/10000 [00:18<00:00, 551.60it/s]\n",
      "DEBUG:root:Tree ready - validation score 0.6526946107784432\n",
      "DEBUG:root:Calculating accuracy with test data\n"
     ]
    },
    {
     "name": "stdout",
     "output_type": "stream",
     "text": [
      "Tree score is 0.6687116564417178\n"
     ]
    },
    {
     "name": "stderr",
     "output_type": "stream",
     "text": [
      "INFO:root:Deleting temporary files\n"
     ]
    }
   ],
   "source": [
    "\n",
    "logging.basicConfig(level=logging.DEBUG)\n",
    "# Read datasets\n",
    "train, valid, test = read_data()\n",
    "\n",
    "# Encode alphabetic values into numeric values\n",
    "encoded_train = encode_target(data=train)\n",
    "encoded_validation = encode_target(data=valid)\n",
    "encoded_test = encode_target(data=test)\n",
    "\n",
    "# get a trained tree\n",
    "tree = decision_tree_build(encoded_train, encoded_validation)\n",
    "\n",
    "logging.debug(\"Calculating accuracy with test data\")\n",
    "print_accuracy(tree, encoded_test)\n",
    "\n",
    "plot_tree(tree, feature_names)\n",
    "\n",
    "clean_temp_files()"
   ]
  },
  {
   "cell_type": "code",
   "execution_count": null,
   "metadata": {},
   "outputs": [],
   "source": []
  }
 ],
 "metadata": {
  "kernelspec": {
   "display_name": "Python 3",
   "language": "python",
   "name": "python3"
  },
  "language_info": {
   "codemirror_mode": {
    "name": "ipython",
    "version": 3
   },
   "file_extension": ".py",
   "mimetype": "text/x-python",
   "name": "python",
   "nbconvert_exporter": "python",
   "pygments_lexer": "ipython3",
   "version": "3.7.5"
  }
 },
 "nbformat": 4,
 "nbformat_minor": 2
}
