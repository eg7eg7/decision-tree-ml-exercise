{
 "cells": [
  {
   "cell_type": "markdown",
   "metadata": {},
   "source": [
    "# Machine Learning Exercise 4\n",
    "\n",
    "### EDEN DUPONT - 204808596"
   ]
  },
  {
   "cell_type": "markdown",
   "metadata": {},
   "source": [
    "-------------------------------------------------------------------------------------------------------------------------------"
   ]
  },
  {
   "cell_type": "markdown",
   "metadata": {},
   "source": [
    "## Theoretical part"
   ]
  },
  {
   "cell_type": "markdown",
   "metadata": {},
   "source": [
    "ex4-theoretical-part.pdf file is included"
   ]
  },
  {
   "cell_type": "code",
   "execution_count": 19,
   "metadata": {},
   "outputs": [],
   "source": [
    "import logging\n",
    "import os\n",
    "import re\n",
    "import pandas as pd\n",
    "from sklearn.tree import DecisionTreeClassifier, export_graphviz\n",
    "\n",
    "train_file = \"train.txt\"\n",
    "validation_file = \"val.txt\"\n",
    "test_file = \"test.txt\"\n",
    "temp_files = []\n",
    "table_names = {}\n",
    "\n",
    "\n",
    "def encode_target(data):\n",
    "    df_mod = data.copy()\n",
    "    map_to_int = {}\n",
    "    i=0\n",
    "    dummies = pd.get_dummies(df_mod)\n",
    "    for key in table_names.keys():\n",
    "        print(key)\n",
    "        temp = {}\n",
    "        targets = table_names[key]\n",
    "        map_to_int[key] = {name: (n+1) for n, name in enumerate(targets)}\n",
    "        temp[key] = map_to_int[key]\n",
    "        print(temp)\n",
    "    df_mod = df_mod.replace(map_to_int)\n",
    "    a = df_mod[\"A1\"]\n",
    "    print(a)\n",
    "\n",
    "    return df_mod\n",
    "\n",
    "\n",
    "# build decision tree using training data, use pandas\n",
    "def decision_tree_build(data):\n",
    "    encoded_data = encode_target(data=data)\n",
    "\n",
    "    print(encoded_data.head(n=6))\n",
    "    clf = DecisionTreeClassifier(criterion=\"entropy\", splitter=\"best\")\n",
    "    return 1\n",
    "\n",
    "\n",
    "def plot_tree():\n",
    "    pass\n",
    "\n",
    "\n",
    "def print_accuracy():\n",
    "    pass\n",
    "\n",
    "\n",
    "def clean_file(directory):\n",
    "    logging.info(msg=\"Cleaning file \" + directory)\n",
    "    names = \"\"\n",
    "    write_first_line = True\n",
    "    new_file = directory + \"_temp\"\n",
    "    temp_files.append(new_file)\n",
    "    pattern = re.compile(r\",| \")\n",
    "    f = open(directory, \"r\")\n",
    "    new_f = open(new_file, \"w\")\n",
    "    lines = f.readlines()\n",
    "    for line in lines:\n",
    "        line1 = pattern.split(line.rstrip(\"\\n\"))\n",
    "        if line1[0] in [\"##\"]:\n",
    "            names += line1[1] + \", \"\n",
    "            table_names[line1[1].rstrip()] = line1[2:]\n",
    "        if line1[0] in [\"%%\"]:\n",
    "            table_names[\"Y\"] = line1[1:]\n",
    "        if line1[0] not in [\"##\", \"%%\", \"//\"]:\n",
    "            if write_first_line:\n",
    "                write_first_line = False\n",
    "                new_f.write(names + \"Y\\n\")\n",
    "            new_f.write(line)\n",
    "\n",
    "    f.close()\n",
    "    new_f.close()\n",
    "    return new_file\n",
    "\n",
    "\n",
    "def read_file(directory):\n",
    "    cfile = clean_file(directory)\n",
    "    data = pd.read_csv(cfile, header=0, sep=\",|, \")\n",
    "    return data\n",
    "\n",
    "\n",
    "# leaving directory empty uses a relative path\n",
    "def read_data(directory=\"\"):\n",
    "    logging.info(msg=\"Reading training file\")\n",
    "    train = read_file(directory + train_file)\n",
    "    logging.info(msg=\"Reading validation file\")\n",
    "    valid = read_file(directory + validation_file)\n",
    "    logging.info(msg=\"Reading test file\")\n",
    "    test = read_file(directory + test_file)\n",
    "    return train, valid, test\n",
    "\n",
    "\n",
    "\n",
    "def clean_temp_files():\n",
    "    logging.info(msg=\"Deleting temporary files\")\n",
    "    for x in temp_files:\n",
    "        os.remove(x)\n",
    "\n"
   ]
  },
  {
   "cell_type": "code",
   "execution_count": 21,
   "metadata": {},
   "outputs": [
    {
     "name": "stderr",
     "output_type": "stream",
     "text": [
      "INFO:root:Reading training file\n",
      "INFO:root:Cleaning file train.txt\n",
      "F:\\Users\\eg7eg\\Anaconda3\\envs\\ml\\lib\\site-packages\\ipykernel_launcher.py:80: ParserWarning: Falling back to the 'python' engine because the 'c' engine does not support regex separators (separators > 1 char and different from '\\s+' are interpreted as regex); you can avoid this warning by specifying engine='python'.\n",
      "INFO:root:Reading validation file\n",
      "INFO:root:Cleaning file val.txt\n",
      "INFO:root:Reading test file\n",
      "INFO:root:Cleaning file test.txt\n"
     ]
    }
   ],
   "source": [
    "\n",
    "logging.basicConfig(level=logging.DEBUG)\n",
    "train, valid, test = read_data()\n",
    "\n",
    "\n"
   ]
  },
  {
   "cell_type": "code",
   "execution_count": 7,
   "metadata": {},
   "outputs": [
    {
     "name": "stdout",
     "output_type": "stream",
     "text": [
      "Y\n",
      "{'Y': {'G': 1, 'B': 2}}\n",
      "A1\n",
      "{'A1': {'x': 1, 'n': 2, 'b': 3, 'g': 4}}\n",
      "A2\n",
      "{'A2': {'n': 1, 'b': 2, 'm': 3, 'g': 4, 'w': 5}}\n",
      "A3\n",
      "{'A3': {'a': 1, 'c': 2, 'd': 3, 'e': 4, 'n': 5}}\n",
      "A4\n",
      "{'A4': {'r': 1, 'o': 2, 'f': 3}}\n",
      "A5\n",
      "{'A5': {'h': 1, 's': 2, 'n': 3, 'u': 4}}\n",
      "A6\n",
      "{'A6': {'c': 1, 'l': 2, 'r': 3, 'n': 4}}\n",
      "A7\n",
      "{'A7': {'1': 1, '2': 2}}\n",
      "A8\n",
      "{'A8': {'1': 1, '2': 2, '3': 3, '4': 4}}\n",
      "A9\n",
      "{'A9': {'y': 1, 'n': 2}}\n",
      "A10\n",
      "{'A10': {'y': 1, 'n': 2}}\n",
      "0      1\n",
      "1      3\n",
      "2      1\n",
      "3      1\n",
      "4      2\n",
      "      ..\n",
      "498    2\n",
      "499    2\n",
      "500    1\n",
      "501    1\n",
      "502    2\n",
      "Name: A1, Length: 503, dtype: int64\n",
      "   A1  A2  A3  A4  A5  A6   A7   A8  A9  A10  Y\n",
      "0   1   n   e   r   h   l    1    1   y    y  G\n",
      "1   3   m   d   o   h   c    1    4   y    y  B\n",
      "2   1   g   e   o   s   c    1    1   n    y  G\n",
      "3   1   g   e   o   s   l    1    1   n    y  G\n",
      "4   2   b   c   o   u   l    1    2   n    n  G\n",
      "5   2   b   e   o   s   c    1    1   y    y  B\n"
     ]
    }
   ],
   "source": [
    "\n",
    "tree = decision_tree_build(train)"
   ]
  },
  {
   "cell_type": "code",
   "execution_count": 31,
   "metadata": {},
   "outputs": [
    {
     "name": "stderr",
     "output_type": "stream",
     "text": [
      "INFO:root:Cleaning file train.txt\n",
      "F:\\Users\\eg7eg\\Anaconda3\\envs\\ml\\lib\\site-packages\\ipykernel_launcher.py:2: ParserWarning: Falling back to the 'python' engine because the 'c' engine does not support regex separators (separators > 1 char and different from '\\s+' are interpreted as regex); you can avoid this warning by specifying engine='python'.\n",
      "  \n"
     ]
    },
    {
     "data": {
      "text/plain": [
       "0      G\n",
       "1      B\n",
       "2      G\n",
       "3      G\n",
       "4      G\n",
       "      ..\n",
       "498    B\n",
       "499    G\n",
       "500    G\n",
       "501    G\n",
       "502    B\n",
       "Name: Y, Length: 503, dtype: object"
      ]
     },
     "execution_count": 31,
     "metadata": {},
     "output_type": "execute_result"
    }
   ],
   "source": [
    "cfile = clean_file(train_file)\n",
    "data = pd.read_csv(cfile, header=0, sep=\", |,\")\n",
    "data[\"Y\"]"
   ]
  },
  {
   "cell_type": "code",
   "execution_count": null,
   "metadata": {},
   "outputs": [],
   "source": [
    "for name, values in table_names.items():\n",
    "    text = str(name) + \": \" + str(values)\n",
    "    logging.info(text)\n",
    "logging.info(\"\\n\" + str(train.head(n=5)))\n",
    "clean_temp_files()"
   ]
  }
 ],
 "metadata": {
  "kernelspec": {
   "display_name": "Python 3",
   "language": "python",
   "name": "python3"
  },
  "language_info": {
   "codemirror_mode": {
    "name": "ipython",
    "version": 3
   },
   "file_extension": ".py",
   "mimetype": "text/x-python",
   "name": "python",
   "nbconvert_exporter": "python",
   "pygments_lexer": "ipython3",
   "version": "3.7.5"
  }
 },
 "nbformat": 4,
 "nbformat_minor": 2
}
